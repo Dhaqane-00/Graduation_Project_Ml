{
  "cells": [
    {
      "cell_type": "markdown",
      "metadata": {
        "id": "MuNVcZQnpPMU"
      },
      "source": [
        "<h1><strong>Student Dropout Prediction</strong></h1>\n",
        "\n"
      ]
    },
    {
      "cell_type": "markdown",
      "metadata": {
        "id": "6LT42jyXpS3S"
      },
      "source": [
        "> *Importing the required libraries*"
      ]
    },
    {
      "cell_type": "code",
      "execution_count": 116,
      "metadata": {
        "id": "YXmbQGAOpGuz"
      },
      "outputs": [],
      "source": [
        "import pandas as pd\n",
        "import numpy as np\n",
        "import matplotlib.pyplot as plt\n",
        "import seaborn as sns\n",
        "\n",
        "import warnings\n",
        "warnings.filterwarnings(\"ignore\")"
      ]
    },
    {
      "cell_type": "markdown",
      "metadata": {
        "id": "GKUqul1spXCW"
      },
      "source": [
        "> *Loading the dataset*"
      ]
    },
    {
      "cell_type": "code",
      "execution_count": 117,
      "metadata": {
        "colab": {
          "base_uri": "https://localhost:8080/",
          "height": 456
        },
        "id": "sv62KAejpUof",
        "outputId": "c4ae4cd7-5071-48df-bd8c-d79e5d57ac59"
      },
      "outputs": [
        {
          "data": {
            "text/html": [
              "<div>\n",
              "<style scoped>\n",
              "    .dataframe tbody tr th:only-of-type {\n",
              "        vertical-align: middle;\n",
              "    }\n",
              "\n",
              "    .dataframe tbody tr th {\n",
              "        vertical-align: top;\n",
              "    }\n",
              "\n",
              "    .dataframe thead th {\n",
              "        text-align: right;\n",
              "    }\n",
              "</style>\n",
              "<table border=\"1\" class=\"dataframe\">\n",
              "  <thead>\n",
              "    <tr style=\"text-align: right;\">\n",
              "      <th></th>\n",
              "      <th>Department</th>\n",
              "      <th>Gender</th>\n",
              "      <th>Mode</th>\n",
              "      <th>GPA</th>\n",
              "      <th>status</th>\n",
              "    </tr>\n",
              "  </thead>\n",
              "  <tbody>\n",
              "    <tr>\n",
              "      <th>0</th>\n",
              "      <td>Medicine_and_General_Surgery</td>\n",
              "      <td>Male</td>\n",
              "      <td>Fulltime</td>\n",
              "      <td>0.1</td>\n",
              "      <td>Dropout</td>\n",
              "    </tr>\n",
              "    <tr>\n",
              "      <th>1</th>\n",
              "      <td>Nursing</td>\n",
              "      <td>Female</td>\n",
              "      <td>Fulltime</td>\n",
              "      <td>0.1</td>\n",
              "      <td>Dropout</td>\n",
              "    </tr>\n",
              "    <tr>\n",
              "      <th>2</th>\n",
              "      <td>Medical_Laboratory_Science</td>\n",
              "      <td>Male</td>\n",
              "      <td>Fulltime</td>\n",
              "      <td>0.1</td>\n",
              "      <td>Dropout</td>\n",
              "    </tr>\n",
              "    <tr>\n",
              "      <th>3</th>\n",
              "      <td>Medical_Laboratory_Science</td>\n",
              "      <td>Male</td>\n",
              "      <td>Fulltime</td>\n",
              "      <td>0.1</td>\n",
              "      <td>Dropout</td>\n",
              "    </tr>\n",
              "    <tr>\n",
              "      <th>4</th>\n",
              "      <td>Medical_Laboratory_Science</td>\n",
              "      <td>Female</td>\n",
              "      <td>Fulltime</td>\n",
              "      <td>0.1</td>\n",
              "      <td>Dropout</td>\n",
              "    </tr>\n",
              "    <tr>\n",
              "      <th>5</th>\n",
              "      <td>Computer_Application</td>\n",
              "      <td>Male</td>\n",
              "      <td>Fulltime</td>\n",
              "      <td>0.1</td>\n",
              "      <td>Dropout</td>\n",
              "    </tr>\n",
              "    <tr>\n",
              "      <th>6</th>\n",
              "      <td>Computer_Application</td>\n",
              "      <td>Male</td>\n",
              "      <td>Fulltime</td>\n",
              "      <td>0.1</td>\n",
              "      <td>Dropout</td>\n",
              "    </tr>\n",
              "    <tr>\n",
              "      <th>7</th>\n",
              "      <td>Computer_Application</td>\n",
              "      <td>Male</td>\n",
              "      <td>Fulltime</td>\n",
              "      <td>0.1</td>\n",
              "      <td>Dropout</td>\n",
              "    </tr>\n",
              "    <tr>\n",
              "      <th>8</th>\n",
              "      <td>Computer_Application</td>\n",
              "      <td>Male</td>\n",
              "      <td>Parttime</td>\n",
              "      <td>0.1</td>\n",
              "      <td>Dropout</td>\n",
              "    </tr>\n",
              "    <tr>\n",
              "      <th>9</th>\n",
              "      <td>Computer_Application</td>\n",
              "      <td>Male</td>\n",
              "      <td>Parttime</td>\n",
              "      <td>0.1</td>\n",
              "      <td>Dropout</td>\n",
              "    </tr>\n",
              "  </tbody>\n",
              "</table>\n",
              "</div>"
            ],
            "text/plain": [
              "                     Department  Gender      Mode  GPA   status\n",
              "0  Medicine_and_General_Surgery    Male  Fulltime  0.1  Dropout\n",
              "1                       Nursing  Female  Fulltime  0.1  Dropout\n",
              "2    Medical_Laboratory_Science    Male  Fulltime  0.1  Dropout\n",
              "3    Medical_Laboratory_Science    Male  Fulltime  0.1  Dropout\n",
              "4    Medical_Laboratory_Science  Female  Fulltime  0.1  Dropout\n",
              "5          Computer_Application    Male  Fulltime  0.1  Dropout\n",
              "6          Computer_Application    Male  Fulltime  0.1  Dropout\n",
              "7          Computer_Application    Male  Fulltime  0.1  Dropout\n",
              "8          Computer_Application    Male  Parttime  0.1  Dropout\n",
              "9          Computer_Application    Male  Parttime  0.1  Dropout"
            ]
          },
          "execution_count": 117,
          "metadata": {},
          "output_type": "execute_result"
        }
      ],
      "source": [
        "data = pd.read_excel('Project.xlsx')\n",
        "data.head(10)"
      ]
    },
    {
      "cell_type": "markdown",
      "metadata": {
        "id": "btsg1T9MpOxw"
      },
      "source": [
        "## Exploratory Data Analysis"
      ]
    },
    {
      "cell_type": "code",
      "execution_count": 118,
      "metadata": {
        "colab": {
          "base_uri": "https://localhost:8080/"
        },
        "id": "3AysTFz3pjUa",
        "outputId": "7ce0df71-38a1-4af4-ba96-cc3528209361"
      },
      "outputs": [
        {
          "data": {
            "text/plain": [
              "(4181, 5)"
            ]
          },
          "execution_count": 118,
          "metadata": {},
          "output_type": "execute_result"
        }
      ],
      "source": [
        "data.shape"
      ]
    },
    {
      "cell_type": "markdown",
      "metadata": {
        "id": "6nS3DSltpnQV"
      },
      "source": [
        "From above, it is clear that the dataset contains `31` features with `395` records."
      ]
    },
    {
      "cell_type": "code",
      "execution_count": 119,
      "metadata": {
        "colab": {
          "base_uri": "https://localhost:8080/"
        },
        "id": "XO38fVQXpodc",
        "outputId": "05c6ed52-ff72-4b37-db1d-23a2695cb9a1"
      },
      "outputs": [
        {
          "name": "stdout",
          "output_type": "stream",
          "text": [
            "Total number of students : 4181\n",
            "Total number of students  passed: 0\n",
            "Total number of students  failed: 1443\n",
            "Pass percentage: 0.0%\n"
          ]
        }
      ],
      "source": [
        "print('Total number of students : {}'.format(data.shape[0]))\n",
        "\n",
        "print('Total number of students  passed: {}'.format(len(data[data.status=='no'])))\n",
        "\n",
        "print('Total number of students  failed: {}'.format(len(data[data.status=='Dropout'])))\n",
        "\n",
        "print('Pass percentage: {}%'.format(round(len(data[data.status=='no'])/data.shape[0],2)*100))"
      ]
    },
    {
      "cell_type": "code",
      "execution_count": 120,
      "metadata": {
        "colab": {
          "base_uri": "https://localhost:8080/"
        },
        "id": "87ASSXoLp4qo",
        "outputId": "b56925a9-ddf4-4427-bb6e-72aa1ebb1b89"
      },
      "outputs": [
        {
          "name": "stdout",
          "output_type": "stream",
          "text": [
            "<class 'pandas.core.frame.DataFrame'>\n",
            "RangeIndex: 4181 entries, 0 to 4180\n",
            "Data columns (total 5 columns):\n",
            " #   Column      Non-Null Count  Dtype  \n",
            "---  ------      --------------  -----  \n",
            " 0   Department  4181 non-null   object \n",
            " 1   Gender      4181 non-null   object \n",
            " 2   Mode        4181 non-null   object \n",
            " 3   GPA         4181 non-null   float64\n",
            " 4   status      4181 non-null   object \n",
            "dtypes: float64(1), object(4)\n",
            "memory usage: 163.4+ KB\n"
          ]
        }
      ],
      "source": [
        "data.info()"
      ]
    },
    {
      "cell_type": "markdown",
      "metadata": {
        "id": "GxWBou0Ip7Y_"
      },
      "source": [
        "*From the above output we concluded that there are no null values but there are some features that has non int values. These values have to converted to numerical categorical data.*"
      ]
    },
    {
      "cell_type": "code",
      "execution_count": 121,
      "metadata": {
        "colab": {
          "base_uri": "https://localhost:8080/"
        },
        "id": "CbVfCCurqAJD",
        "outputId": "4fcee62d-afbe-43c1-edaf-0ddf709aeb4e"
      },
      "outputs": [
        {
          "name": "stdout",
          "output_type": "stream",
          "text": [
            "Department {'Medical_Laboratory_Science', 'Accounting_and_Finance', 'Nursing', 'Medicine_and_General_Surgery', 'Banking_and_Finance', 'Electrical_and_Electronics', 'Business_Administration', 'Pharmacology', 'Computer_Application', 'Midwifery', 'Computer_Multimedia', 'Public_Health', 'Civil_Engineering', 'Public_Administration', 'Computer_Networking_and_Security', 'Economics'}\n",
            "Gender {'Female', 'male', 'Male'}\n",
            "Mode {'Fulltime', 'Parttime'}\n",
            "GPA {0.4, 0.3, 0.2, 0.5, 0.6, 0.7, 0.8, 0.9, 1.0, 1.1, 1.4, 1.5, 2.0, 2.5, 3.0, 3.5, 4.0, 1.6, 2.1, 2.6, 3.1, 3.6, 1.2, 1.7, 0.1, 2.2, 2.3, 2.7, 2.8, 3.2, 3.3, 3.7, 3.8, 1.3, 1.8, 1.9, 2.4, 2.9, 3.4, 3.9}\n",
            "status {'Graduated', 'Dropout'}\n"
          ]
        }
      ],
      "source": [
        "for i in data.columns:\n",
        "  print(i,set(data[i].values))"
      ]
    },
    {
      "cell_type": "markdown",
      "metadata": {
        "id": "6FmGnSyMp9yt"
      },
      "source": [
        "> *Convertion of values of Object type to Integer type:*\n",
        "\n",
        "\n"
      ]
    },
    {
      "cell_type": "markdown",
      "metadata": {
        "id": "rBfrS4q0qEzi"
      },
      "source": [
        "The above code helps us to have a glance at the unique values present in each feature of the dataset."
      ]
    },
    {
      "cell_type": "code",
      "execution_count": 122,
      "metadata": {
        "colab": {
          "base_uri": "https://localhost:8080/",
          "height": 299
        },
        "id": "RhvDoX8XqDrk",
        "outputId": "7ad152a8-d9aa-4b14-bd53-50857c4f848f"
      },
      "outputs": [
        {
          "data": {
            "text/html": [
              "<div>\n",
              "<style scoped>\n",
              "    .dataframe tbody tr th:only-of-type {\n",
              "        vertical-align: middle;\n",
              "    }\n",
              "\n",
              "    .dataframe tbody tr th {\n",
              "        vertical-align: top;\n",
              "    }\n",
              "\n",
              "    .dataframe thead th {\n",
              "        text-align: right;\n",
              "    }\n",
              "</style>\n",
              "<table border=\"1\" class=\"dataframe\">\n",
              "  <thead>\n",
              "    <tr style=\"text-align: right;\">\n",
              "      <th></th>\n",
              "      <th>Department</th>\n",
              "      <th>Gender</th>\n",
              "      <th>Mode</th>\n",
              "      <th>GPA</th>\n",
              "      <th>status</th>\n",
              "    </tr>\n",
              "  </thead>\n",
              "  <tbody>\n",
              "    <tr>\n",
              "      <th>0</th>\n",
              "      <td>10</td>\n",
              "      <td>1</td>\n",
              "      <td>0</td>\n",
              "      <td>0</td>\n",
              "      <td>0</td>\n",
              "    </tr>\n",
              "    <tr>\n",
              "      <th>1</th>\n",
              "      <td>12</td>\n",
              "      <td>0</td>\n",
              "      <td>0</td>\n",
              "      <td>0</td>\n",
              "      <td>0</td>\n",
              "    </tr>\n",
              "    <tr>\n",
              "      <th>2</th>\n",
              "      <td>9</td>\n",
              "      <td>1</td>\n",
              "      <td>0</td>\n",
              "      <td>0</td>\n",
              "      <td>0</td>\n",
              "    </tr>\n",
              "    <tr>\n",
              "      <th>3</th>\n",
              "      <td>9</td>\n",
              "      <td>1</td>\n",
              "      <td>0</td>\n",
              "      <td>0</td>\n",
              "      <td>0</td>\n",
              "    </tr>\n",
              "    <tr>\n",
              "      <th>4</th>\n",
              "      <td>9</td>\n",
              "      <td>0</td>\n",
              "      <td>0</td>\n",
              "      <td>0</td>\n",
              "      <td>0</td>\n",
              "    </tr>\n",
              "  </tbody>\n",
              "</table>\n",
              "</div>"
            ],
            "text/plain": [
              "   Department  Gender  Mode  GPA  status\n",
              "0          10       1     0    0       0\n",
              "1          12       0     0    0       0\n",
              "2           9       1     0    0       0\n",
              "3           9       1     0    0       0\n",
              "4           9       0     0    0       0"
            ]
          },
          "execution_count": 122,
          "metadata": {},
          "output_type": "execute_result"
        }
      ],
      "source": [
        "from sklearn.preprocessing import LabelEncoder\n",
        "le = LabelEncoder()\n",
        "\n",
        "# List of column names with categorical variables\n",
        "objCols = ['Department', 'Gender', 'Mode','GPA','status']\n",
        "\n",
        "# Applying label encoding to the selected columns in the 'data' DataFrame\n",
        "data[objCols] = data[objCols].apply(le.fit_transform)\n",
        "\n",
        "# Retrieving the column names of the 'data' DataFrame\n",
        "feature_names = data.columns.values\n",
        "\n",
        "# Applying label encoding to the remaining categorical columns in the 'data' DataFrame\n",
        "for name in feature_names:\n",
        "    if data[name].dtype == 'object':\n",
        "        data[name] = le.fit_transform(data[name])\n",
        "\n",
        "data.head()"
      ]
    },
    {
      "cell_type": "markdown",
      "metadata": {
        "id": "-eawLDlRqPje"
      },
      "source": [
        "*Now we find that the data set is transformed into a dataset with only integer values.*"
      ]
    },
    {
      "cell_type": "markdown",
      "metadata": {
        "id": "aPk94QRTqTsP"
      },
      "source": [
        "*As we know that the model can't be trained on the categorical data, so we converted the values of object type into integer type.*"
      ]
    },
    {
      "cell_type": "code",
      "execution_count": 123,
      "metadata": {
        "colab": {
          "base_uri": "https://localhost:8080/",
          "height": 312
        },
        "id": "wzjNyn1uqa1e",
        "outputId": "07b4b30b-6bca-4068-89a2-9b3ebed1d439"
      },
      "outputs": [
        {
          "data": {
            "text/plain": [
              "Text(0.5, 1.0, 'status?')"
            ]
          },
          "execution_count": 123,
          "metadata": {},
          "output_type": "execute_result"
        },
        {
          "data": {
            "image/png": "[encoded data removed]",
            "text/plain": [
              "<Figure size 500x500 with 1 Axes>"
            ]
          },
          "metadata": {},
          "output_type": "display_data"
        }
      ],
      "source": [
        "\n",
        "sns.catplot(x=\"status\", kind=\"count\", data=data)\n",
        "plt.title('status?')\n",
        "\n",
        "sns.countplot(x='status', data=data)\n",
        "plt.title('status?')"
      ]
    },
    {
      "cell_type": "code",
      "execution_count": 124,
      "metadata": {
        "colab": {
          "base_uri": "https://localhost:8080/"
        },
        "id": "9ClR0ppZKW0s",
        "outputId": "6b5e60ce-9c73-41bb-c335-e94ca92b5a2c"
      },
      "outputs": [
        {
          "data": {
            "text/plain": [
              "status\n",
              "1    0.654867\n",
              "0    0.345133\n",
              "Name: proportion, dtype: float64"
            ]
          },
          "execution_count": 124,
          "metadata": {},
          "output_type": "execute_result"
        }
      ],
      "source": [
        "data['status'].value_counts(normalize=True)"
      ]
    },
    {
      "cell_type": "code",
      "execution_count": 125,
      "metadata": {
        "colab": {
          "base_uri": "https://localhost:8080/"
        },
        "id": "AomgtVkqqpJf",
        "outputId": "45536af9-729b-41db-95ba-0332a40b4487"
      },
      "outputs": [
        {
          "name": "stdout",
          "output_type": "stream",
          "text": [
            "Total passed(0): 1443\n",
            "Pass Percentage: 34.51\n",
            "\n",
            "Total Dropped Out(1): 2738\n",
            "Dropout Percentage Percentage: 65.49\n"
          ]
        }
      ],
      "source": [
        "status =[data.status.value_counts()]\n",
        "\n",
        "print(\"Total passed(0): {}\".format(status[0][0]))\n",
        "print(\"Pass Percentage: {}\\n\".format(round(status[0][0]*100/(status[0][0]+status[0][1]),2)))\n",
        "\n",
        "print(\"Total Dropped Out(1): {}\".format(status[0][1]))\n",
        "print(\"Dropout Percentage Percentage: {}\".format(round(status[0][1]*100/(status[0][0]+status[0][1]),2)))"
      ]
    },
    {
      "cell_type": "markdown",
      "metadata": {
        "id": "HqJe5Gw6q-Q0"
      },
      "source": [
        "*For optimal/high accuracy, a good dataset must not contain features with high correaltion among them.\n",
        "The `.corr()` method of pandas library helps us to find the co-relation among the features.*"
      ]
    },
    {
      "cell_type": "code",
      "execution_count": 126,
      "metadata": {
        "colab": {
          "base_uri": "https://localhost:8080/",
          "height": 1000
        },
        "id": "2fNH-vZ-rEkE",
        "outputId": "9589980e-4dcc-4756-b280-b9115baeb111"
      },
      "outputs": [
        {
          "data": {
            "text/html": [
              "<div>\n",
              "<style scoped>\n",
              "    .dataframe tbody tr th:only-of-type {\n",
              "        vertical-align: middle;\n",
              "    }\n",
              "\n",
              "    .dataframe tbody tr th {\n",
              "        vertical-align: top;\n",
              "    }\n",
              "\n",
              "    .dataframe thead th {\n",
              "        text-align: right;\n",
              "    }\n",
              "</style>\n",
              "<table border=\"1\" class=\"dataframe\">\n",
              "  <thead>\n",
              "    <tr style=\"text-align: right;\">\n",
              "      <th></th>\n",
              "      <th>Department</th>\n",
              "      <th>Gender</th>\n",
              "      <th>Mode</th>\n",
              "      <th>GPA</th>\n",
              "      <th>status</th>\n",
              "    </tr>\n",
              "  </thead>\n",
              "  <tbody>\n",
              "    <tr>\n",
              "      <th>Department</th>\n",
              "      <td>1.000000</td>\n",
              "      <td>0.357668</td>\n",
              "      <td>0.047257</td>\n",
              "      <td>0.144759</td>\n",
              "      <td>0.168142</td>\n",
              "    </tr>\n",
              "    <tr>\n",
              "      <th>Gender</th>\n",
              "      <td>0.357668</td>\n",
              "      <td>1.000000</td>\n",
              "      <td>0.098882</td>\n",
              "      <td>0.120542</td>\n",
              "      <td>0.130452</td>\n",
              "    </tr>\n",
              "    <tr>\n",
              "      <th>Mode</th>\n",
              "      <td>0.047257</td>\n",
              "      <td>0.098882</td>\n",
              "      <td>1.000000</td>\n",
              "      <td>0.073356</td>\n",
              "      <td>0.063553</td>\n",
              "    </tr>\n",
              "    <tr>\n",
              "      <th>GPA</th>\n",
              "      <td>0.144759</td>\n",
              "      <td>0.120542</td>\n",
              "      <td>0.073356</td>\n",
              "      <td>1.000000</td>\n",
              "      <td>0.809153</td>\n",
              "    </tr>\n",
              "    <tr>\n",
              "      <th>status</th>\n",
              "      <td>0.168142</td>\n",
              "      <td>0.130452</td>\n",
              "      <td>0.063553</td>\n",
              "      <td>0.809153</td>\n",
              "      <td>1.000000</td>\n",
              "    </tr>\n",
              "  </tbody>\n",
              "</table>\n",
              "</div>"
            ],
            "text/plain": [
              "            Department    Gender      Mode       GPA    status\n",
              "Department    1.000000  0.357668  0.047257  0.144759  0.168142\n",
              "Gender        0.357668  1.000000  0.098882  0.120542  0.130452\n",
              "Mode          0.047257  0.098882  1.000000  0.073356  0.063553\n",
              "GPA           0.144759  0.120542  0.073356  1.000000  0.809153\n",
              "status        0.168142  0.130452  0.063553  0.809153  1.000000"
            ]
          },
          "execution_count": 126,
          "metadata": {},
          "output_type": "execute_result"
        }
      ],
      "source": [
        "corMatrix = data.corr().abs()\n",
        "corMatrix"
      ]
    },
    {
      "cell_type": "markdown",
      "metadata": {
        "id": "97Fd8EODrImn"
      },
      "source": [
        "*Since the upper triangle and lower triangle matrices are same, we shall consider any one of them.*"
      ]
    },
    {
      "cell_type": "code",
      "execution_count": 127,
      "metadata": {
        "colab": {
          "base_uri": "https://localhost:8080/",
          "height": 299
        },
        "id": "iwxzuGU7rKiO",
        "outputId": "09380e65-9b0a-4584-bf28-7196578cc5ef"
      },
      "outputs": [
        {
          "data": {
            "text/html": [
              "<div>\n",
              "<style scoped>\n",
              "    .dataframe tbody tr th:only-of-type {\n",
              "        vertical-align: middle;\n",
              "    }\n",
              "\n",
              "    .dataframe tbody tr th {\n",
              "        vertical-align: top;\n",
              "    }\n",
              "\n",
              "    .dataframe thead th {\n",
              "        text-align: right;\n",
              "    }\n",
              "</style>\n",
              "<table border=\"1\" class=\"dataframe\">\n",
              "  <thead>\n",
              "    <tr style=\"text-align: right;\">\n",
              "      <th></th>\n",
              "      <th>Department</th>\n",
              "      <th>Gender</th>\n",
              "      <th>Mode</th>\n",
              "      <th>GPA</th>\n",
              "      <th>status</th>\n",
              "    </tr>\n",
              "  </thead>\n",
              "  <tbody>\n",
              "    <tr>\n",
              "      <th>Department</th>\n",
              "      <td>NaN</td>\n",
              "      <td>0.357668</td>\n",
              "      <td>0.047257</td>\n",
              "      <td>0.144759</td>\n",
              "      <td>0.168142</td>\n",
              "    </tr>\n",
              "    <tr>\n",
              "      <th>Gender</th>\n",
              "      <td>NaN</td>\n",
              "      <td>NaN</td>\n",
              "      <td>0.098882</td>\n",
              "      <td>0.120542</td>\n",
              "      <td>0.130452</td>\n",
              "    </tr>\n",
              "    <tr>\n",
              "      <th>Mode</th>\n",
              "      <td>NaN</td>\n",
              "      <td>NaN</td>\n",
              "      <td>NaN</td>\n",
              "      <td>0.073356</td>\n",
              "      <td>0.063553</td>\n",
              "    </tr>\n",
              "    <tr>\n",
              "      <th>GPA</th>\n",
              "      <td>NaN</td>\n",
              "      <td>NaN</td>\n",
              "      <td>NaN</td>\n",
              "      <td>NaN</td>\n",
              "      <td>0.809153</td>\n",
              "    </tr>\n",
              "    <tr>\n",
              "      <th>status</th>\n",
              "      <td>NaN</td>\n",
              "      <td>NaN</td>\n",
              "      <td>NaN</td>\n",
              "      <td>NaN</td>\n",
              "      <td>NaN</td>\n",
              "    </tr>\n",
              "  </tbody>\n",
              "</table>\n",
              "</div>"
            ],
            "text/plain": [
              "            Department    Gender      Mode       GPA    status\n",
              "Department         NaN  0.357668  0.047257  0.144759  0.168142\n",
              "Gender             NaN       NaN  0.098882  0.120542  0.130452\n",
              "Mode               NaN       NaN       NaN  0.073356  0.063553\n",
              "GPA                NaN       NaN       NaN       NaN  0.809153\n",
              "status             NaN       NaN       NaN       NaN       NaN"
            ]
          },
          "execution_count": 127,
          "metadata": {},
          "output_type": "execute_result"
        }
      ],
      "source": [
        "upper_matrix = corMatrix.where(np.triu(np.ones(corMatrix.shape),k=1).astype(np.bool_))\n",
        "upper_matrix.head()"
      ]
    },
    {
      "cell_type": "code",
      "execution_count": 128,
      "metadata": {
        "colab": {
          "base_uri": "https://localhost:8080/"
        },
        "id": "RG8kdtamrNPs",
        "outputId": "1fc99cb4-f6bb-4e10-e9e6-a322f4456ebc"
      },
      "outputs": [
        {
          "name": "stdout",
          "output_type": "stream",
          "text": [
            "['status']\n"
          ]
        }
      ],
      "source": [
        "drop_columns = [col for col in upper_matrix if any(upper_matrix[col]>0.65)]\n",
        "print(drop_columns)"
      ]
    },
    {
      "cell_type": "markdown",
      "metadata": {
        "id": "JliILsGBrSX6"
      },
      "source": [
        "*The features of the dataset are not highly co-related. Hence, no features are required to be removed.*"
      ]
    },
    {
      "cell_type": "code",
      "execution_count": 129,
      "metadata": {
        "id": "d9SPBT7rrQ-R"
      },
      "outputs": [],
      "source": [
        "X = data.drop('status', axis=1)\n",
        "y= data.status"
      ]
    },
    {
      "cell_type": "code",
      "execution_count": 130,
      "metadata": {
        "colab": {
          "base_uri": "https://localhost:8080/",
          "height": 1000
        },
        "id": "3Ib4QXXbrqtl",
        "outputId": "25143879-50f0-4310-bee4-7a6978b0f3f5"
      },
      "outputs": [
        {
          "data": {
            "text/html": [
              "<div>\n",
              "<style scoped>\n",
              "    .dataframe tbody tr th:only-of-type {\n",
              "        vertical-align: middle;\n",
              "    }\n",
              "\n",
              "    .dataframe tbody tr th {\n",
              "        vertical-align: top;\n",
              "    }\n",
              "\n",
              "    .dataframe thead th {\n",
              "        text-align: right;\n",
              "    }\n",
              "</style>\n",
              "<table border=\"1\" class=\"dataframe\">\n",
              "  <thead>\n",
              "    <tr style=\"text-align: right;\">\n",
              "      <th></th>\n",
              "      <th>Department</th>\n",
              "      <th>Gender</th>\n",
              "      <th>Mode</th>\n",
              "      <th>GPA</th>\n",
              "      <th>status</th>\n",
              "    </tr>\n",
              "  </thead>\n",
              "  <tbody>\n",
              "    <tr>\n",
              "      <th>Department</th>\n",
              "      <td>1.000000</td>\n",
              "      <td>-0.357668</td>\n",
              "      <td>0.047257</td>\n",
              "      <td>0.144759</td>\n",
              "      <td>0.168142</td>\n",
              "    </tr>\n",
              "    <tr>\n",
              "      <th>Gender</th>\n",
              "      <td>-0.357668</td>\n",
              "      <td>1.000000</td>\n",
              "      <td>0.098882</td>\n",
              "      <td>-0.120542</td>\n",
              "      <td>-0.130452</td>\n",
              "    </tr>\n",
              "    <tr>\n",
              "      <th>Mode</th>\n",
              "      <td>0.047257</td>\n",
              "      <td>0.098882</td>\n",
              "      <td>1.000000</td>\n",
              "      <td>0.073356</td>\n",
              "      <td>0.063553</td>\n",
              "    </tr>\n",
              "    <tr>\n",
              "      <th>GPA</th>\n",
              "      <td>0.144759</td>\n",
              "      <td>-0.120542</td>\n",
              "      <td>0.073356</td>\n",
              "      <td>1.000000</td>\n",
              "      <td>0.809153</td>\n",
              "    </tr>\n",
              "    <tr>\n",
              "      <th>status</th>\n",
              "      <td>0.168142</td>\n",
              "      <td>-0.130452</td>\n",
              "      <td>0.063553</td>\n",
              "      <td>0.809153</td>\n",
              "      <td>1.000000</td>\n",
              "    </tr>\n",
              "  </tbody>\n",
              "</table>\n",
              "</div>"
            ],
            "text/plain": [
              "            Department    Gender      Mode       GPA    status\n",
              "Department    1.000000 -0.357668  0.047257  0.144759  0.168142\n",
              "Gender       -0.357668  1.000000  0.098882 -0.120542 -0.130452\n",
              "Mode          0.047257  0.098882  1.000000  0.073356  0.063553\n",
              "GPA           0.144759 -0.120542  0.073356  1.000000  0.809153\n",
              "status        0.168142 -0.130452  0.063553  0.809153  1.000000"
            ]
          },
          "execution_count": 130,
          "metadata": {},
          "output_type": "execute_result"
        }
      ],
      "source": [
        "data.corr()"
      ]
    },
    {
      "cell_type": "markdown",
      "metadata": {
        "id": "-hYbsNDBruID"
      },
      "source": [
        "## Data Visualization"
      ]
    },
    {
      "cell_type": "markdown",
      "metadata": {
        "id": "VBkiL5qnrwGU"
      },
      "source": [
        "*By using pandas, matplotlib and seaborn libraries we can visualize the data graphically and can understand more clearly.*"
      ]
    },
    {
      "cell_type": "code",
      "execution_count": 131,
      "metadata": {
        "colab": {
          "base_uri": "https://localhost:8080/",
          "height": 650
        },
        "id": "kYAVjP6Rryo7",
        "outputId": "09d099cd-7117-4ae4-cd93-dcad09f5ba60"
      },
      "outputs": [
        {
          "data": {
            "image/png": "[encoded data removed]",
            "text/plain": [
              "<Figure size 2000x2000 with 6 Axes>"
            ]
          },
          "metadata": {},
          "output_type": "display_data"
        }
      ],
      "source": [
        "data.hist(edgecolor='black',bins = 25, figsize= (20,20))\n",
        "plt.show()"
      ]
    },
    {
      "cell_type": "markdown",
      "metadata": {
        "id": "dIR-ZTUir2DI"
      },
      "source": [
        "*The `hist()` method of pandas is used to represent the histograms of each feature specified in the data frame.*"
      ]
    },
    {
      "cell_type": "code",
      "execution_count": 132,
      "metadata": {
        "colab": {
          "base_uri": "https://localhost:8080/",
          "height": 718
        },
        "id": "HjD1I5bGr1l2",
        "outputId": "6c8d68b4-5a68-4c29-98e8-3a0e36f1a5a9"
      },
      "outputs": [
        {
          "data": {
            "text/plain": [
              "<Axes: >"
            ]
          },
          "execution_count": 132,
          "metadata": {},
          "output_type": "execute_result"
        },
        {
          "data": {
            "image/png": "[encoded data removed]",
            "text/plain": [
              "<Figure size 2500x2500 with 2 Axes>"
            ]
          },
          "metadata": {},
          "output_type": "display_data"
        }
      ],
      "source": [
        "plt.figure(figsize=(25,25))\n",
        "sns.heatmap(data.corr(), cmap=\"YlGnBu\", annot=True)"
      ]
    },
    {
      "cell_type": "markdown",
      "metadata": {
        "id": "KqFZETJw9P1x"
      },
      "source": [
        "> *Feature Selection*\n",
        "\n",
        "Reducing features from the dataset."
      ]
    },
    {
      "cell_type": "code",
      "execution_count": 133,
      "metadata": {
        "colab": {
          "base_uri": "https://localhost:8080/"
        },
        "id": "R7lW9TSOrcHQ",
        "outputId": "f222bf45-d158-4d09-ac82-1565d7ac6159"
      },
      "outputs": [
        {
          "name": "stdout",
          "output_type": "stream",
          "text": [
            "The reduced features (The Features that have greater impact on target) :\n",
            "GPA\n",
            "The number of Reduced features : 1\n"
          ]
        }
      ],
      "source": [
        "from sklearn.tree import DecisionTreeClassifier\n",
        "from sklearn.feature_selection import SelectFromModel\n",
        "\n",
        "from sklearn.model_selection import train_test_split\n",
        "X_train, X_test, y_train, y_test = train_test_split(X, y, test_size=0.2, random_state=5)\n",
        "\n",
        "model = SelectFromModel(DecisionTreeClassifier())\n",
        "model.fit(X_train, y_train)\n",
        "\n",
        "model.get_support()\n",
        "selected_feat= X_train.columns[(model.get_support())]\n",
        "\n",
        "print(\"The reduced features (The Features that have greater impact on target) :\")\n",
        "for feature in selected_feat:\n",
        "  print(feature)\n",
        "print(\"The number of Reduced features : {}\".format(len(selected_feat)))"
      ]
    },
    {
      "cell_type": "code",
      "execution_count": 134,
      "metadata": {
        "colab": {
          "base_uri": "https://localhost:8080/",
          "height": 270
        },
        "id": "uaFYCG6ArfOA",
        "outputId": "11290b33-1de4-4357-cd87-23b142e20cf2"
      },
      "outputs": [
        {
          "data": {
            "text/html": [
              "<div>\n",
              "<style scoped>\n",
              "    .dataframe tbody tr th:only-of-type {\n",
              "        vertical-align: middle;\n",
              "    }\n",
              "\n",
              "    .dataframe tbody tr th {\n",
              "        vertical-align: top;\n",
              "    }\n",
              "\n",
              "    .dataframe thead th {\n",
              "        text-align: right;\n",
              "    }\n",
              "</style>\n",
              "<table border=\"1\" class=\"dataframe\">\n",
              "  <thead>\n",
              "    <tr style=\"text-align: right;\">\n",
              "      <th></th>\n",
              "      <th>GPA</th>\n",
              "      <th>status</th>\n",
              "    </tr>\n",
              "  </thead>\n",
              "  <tbody>\n",
              "    <tr>\n",
              "      <th>0</th>\n",
              "      <td>0</td>\n",
              "      <td>0</td>\n",
              "    </tr>\n",
              "    <tr>\n",
              "      <th>1</th>\n",
              "      <td>0</td>\n",
              "      <td>0</td>\n",
              "    </tr>\n",
              "    <tr>\n",
              "      <th>2</th>\n",
              "      <td>0</td>\n",
              "      <td>0</td>\n",
              "    </tr>\n",
              "    <tr>\n",
              "      <th>3</th>\n",
              "      <td>0</td>\n",
              "      <td>0</td>\n",
              "    </tr>\n",
              "    <tr>\n",
              "      <th>4</th>\n",
              "      <td>0</td>\n",
              "      <td>0</td>\n",
              "    </tr>\n",
              "  </tbody>\n",
              "</table>\n",
              "</div>"
            ],
            "text/plain": [
              "   GPA  status\n",
              "0    0       0\n",
              "1    0       0\n",
              "2    0       0\n",
              "3    0       0\n",
              "4    0       0"
            ]
          },
          "execution_count": 134,
          "metadata": {},
          "output_type": "execute_result"
        }
      ],
      "source": [
        "df = pd.DataFrame(data=data, columns=selected_feat)\n",
        "df_target = data['status']\n",
        "# df1 = pd.concat([df, df_target], ignore_index=True, sort=False)\n",
        "df = df.join(df_target, lsuffix='_caller', rsuffix='_other')\n",
        "df.head()"
      ]
    },
    {
      "cell_type": "code",
      "execution_count": 135,
      "metadata": {
        "id": "GtoBM7SDrjWa"
      },
      "outputs": [],
      "source": [
        "X = df.drop('status',axis=1)\n",
        "y = df.status"
      ]
    },
    {
      "cell_type": "markdown",
      "metadata": {},
      "source": [
        "Comment 3,4 11 "
      ]
    },
    {
      "cell_type": "code",
      "execution_count": 136,
      "metadata": {
        "id": "Xg9I3kUw7_GF"
      },
      "outputs": [],
      "source": [
        "from imblearn.under_sampling import RandomUnderSampler\n",
        "from imblearn.over_sampling import RandomOverSampler, SMOTE\n",
        "\n",
        "# rus = RandomUnderSampler() \n",
        "# X, y = rus.fit_resample(X, y)\n",
        "\n",
        "\n",
        "ros = RandomOverSampler()\n",
        "X, y = ros.fit_resample(X, y)\n",
        "\n",
        "\n",
        "# sampler = SMOTE()\n",
        "# X, y = sampler.fit_resample(X, y)\n",
        "\n",
        "# data.isnull().sum()\n",
        "\n",
        "# X = X_ros\n",
        "# y = y_ros"
      ]
    },
    {
      "cell_type": "markdown",
      "metadata": {
        "id": "XPKR-_F9r6k1"
      },
      "source": [
        "> Splitting data for Training and Testing"
      ]
    },
    {
      "cell_type": "code",
      "execution_count": 137,
      "metadata": {
        "id": "85uataBUr8Wo"
      },
      "outputs": [],
      "source": [
        "#splitting the dataset\n",
        "\n",
        "from sklearn.model_selection import train_test_split\n",
        "X_train, X_test, y_train, y_test = train_test_split(X, y, test_size=0.2, random_state=40)"
      ]
    },
    {
      "cell_type": "markdown",
      "metadata": {
        "id": "GoNHXMLSr-bj"
      },
      "source": [
        "> Training the models and Evaluating their performance"
      ]
    },
    {
      "cell_type": "markdown",
      "metadata": {
        "id": "yA1xXTi6sDB6"
      },
      "source": [
        "*Since the target feature is categorical, the Machine learning models that are used to train and predict on this dataset should be of type Classification.*"
      ]
    },
    {
      "cell_type": "markdown",
      "metadata": {
        "id": "dIwXCMNosBUh"
      },
      "source": [
        "*The various metrics for evaluating Classification models are*\n",
        "\n",
        "\n",
        "\n",
        "\n",
        "> Confusion matrix\n",
        " *   Accuracy\n",
        " *   Recall\n",
        " *   Precision\n",
        " *   F1_score\n",
        " \n",
        "> Classification Report\n",
        "\n",
        "\n",
        "\n",
        "\n",
        "\n"
      ]
    },
    {
      "cell_type": "code",
      "execution_count": 138,
      "metadata": {
        "id": "I7N5-e6UsAxG"
      },
      "outputs": [],
      "source": [
        "from sklearn.metrics import classification_report, confusion_matrix, accuracy_score, f1_score"
      ]
    },
    {
      "cell_type": "code",
      "execution_count": 139,
      "metadata": {
        "id": "YnwIR6-YsH4X"
      },
      "outputs": [],
      "source": [
        "scores_df=pd.DataFrame({'Model':[], 'F1_score':[], 'Accuracy':[]})"
      ]
    },
    {
      "cell_type": "markdown",
      "metadata": {
        "id": "zcUe7FS2sQ0k"
      },
      "source": [
        "### Logistic Regression"
      ]
    },
    {
      "cell_type": "markdown",
      "metadata": {
        "id": "EFHMRDI0sSd0"
      },
      "source": [
        "*`Logistic Regression` is used for predicting the categorical dependent variable using a given set of independent variables.*"
      ]
    },
    {
      "cell_type": "code",
      "execution_count": 140,
      "metadata": {
        "colab": {
          "base_uri": "https://localhost:8080/"
        },
        "id": "DMNhqUEJsUSp",
        "outputId": "a69cd506-bd9c-4162-b14d-799af1796c63"
      },
      "outputs": [
        {
          "name": "stdout",
          "output_type": "stream",
          "text": [
            "              precision    recall  f1-score   support\n",
            "\n",
            "           0       0.92      0.89      0.91       555\n",
            "           1       0.89      0.93      0.91       541\n",
            "\n",
            "    accuracy                           0.91      1096\n",
            "   macro avg       0.91      0.91      0.91      1096\n",
            "weighted avg       0.91      0.91      0.91      1096\n",
            "\n",
            "LogisticRegression's F1_Score :0.9067873303167421\n"
          ]
        }
      ],
      "source": [
        "# logistic regression\n",
        "from sklearn.linear_model import LogisticRegression\n",
        "\n",
        "\n",
        "lr = LogisticRegression(C=0.1, max_iter=250, class_weight=None, random_state=42)\n",
        "\n",
        "lr.fit(X_train,y_train)\n",
        "\n",
        "y_pred = lr.predict(X_test)\n",
        "\n",
        "print(classification_report(y_test,y_pred))\n",
        "# print('{}\\'s Accuracy :{}'.format(type(model).__name__,accuracy_score(y_test, y_pred)))\n",
        "print('{}\\'s F1_Score :{}'.format(type(lr).__name__,f1_score(y_test, y_pred)))\n",
        "\n",
        "\n",
        "scores_df = pd.concat([scores_df, pd.DataFrame({'Model': [type(lr).__name__],\n",
        "                                                'F1_score': [f1_score(y_test, y_pred)],\n",
        "                                                'Accuracy': [accuracy_score(y_test, y_pred)]})],\n",
        "                      ignore_index=True)\n"
      ]
    },
    {
      "cell_type": "markdown",
      "metadata": {
        "id": "t1DUfuaisXoO"
      },
      "source": [
        "The Accuracy of LogisticRegression is 0.72 and F1_score is 0.82"
      ]
    },
    {
      "cell_type": "markdown",
      "metadata": {
        "id": "tDQnYmB98YIe"
      },
      "source": [
        "### Naive Bayes ( BernoulliNB )"
      ]
    },
    {
      "cell_type": "markdown",
      "metadata": {
        "id": "cI7wC7-48hwn"
      },
      "source": [
        "*`Naïve Bayes` algorithm is a supervised learning algorithm, which is based on Bayes theorem and used for solving classification problems.\n",
        "It is a probabilistic classifier, which means it predicts on the basis of the probability of an object.*"
      ]
    },
    {
      "cell_type": "code",
      "execution_count": 141,
      "metadata": {
        "colab": {
          "base_uri": "https://localhost:8080/"
        },
        "id": "OyNry55rohui",
        "outputId": "f44c9d3e-b594-437d-e57f-7579ef0e80c8"
      },
      "outputs": [
        {
          "name": "stdout",
          "output_type": "stream",
          "text": [
            "              precision    recall  f1-score   support\n",
            "\n",
            "           0       1.00      0.03      0.06       555\n",
            "           1       0.50      1.00      0.67       541\n",
            "\n",
            "    accuracy                           0.51      1096\n",
            "   macro avg       0.75      0.51      0.36      1096\n",
            "weighted avg       0.75      0.51      0.36      1096\n",
            "\n",
            "BernoulliNB's F1_Score :0.6674892041949414\n"
          ]
        }
      ],
      "source": [
        "#naive bayes\n",
        "from sklearn.naive_bayes import BernoulliNB\n",
        "\n",
        "nb = BernoulliNB()\n",
        "nb.fit(X_train,y_train)\n",
        "\n",
        "y_pred = nb.predict(X_test)\n",
        "\n",
        "print(classification_report(y_test,y_pred))\n",
        "# print('{}\\'s Accuracy :{}'.format(type(model).__name__,accuracy_score(y_test, y_pred)))\n",
        "print('{}\\'s F1_Score :{}'.format(type(nb).__name__,f1_score(y_test, y_pred)))\n",
        "\n",
        "\n",
        "scores_df = pd.concat([scores_df, pd.DataFrame({'Model': [type(lr).__name__],\n",
        "                                                'F1_score': [f1_score(y_test, y_pred)],\n",
        "                                                'Accuracy': [accuracy_score(y_test, y_pred)]})],\n",
        "                      ignore_index=True)\n"
      ]
    },
    {
      "cell_type": "markdown",
      "metadata": {
        "id": "UpTTO4FRFLqE"
      },
      "source": [
        "The Accuracy of Bernoulli Naive Bayes Classifier is 0.75 and F1_score is 0.84"
      ]
    },
    {
      "cell_type": "markdown",
      "metadata": {
        "id": "cxozzjBWMi4a"
      },
      "source": [
        "### K Nearest Neighbour\n",
        "\n",
        "*`K-NN` algorithm assumes the similarity between the new case/data and available cases and put the new case into the category that is most similar to the available categories.*"
      ]
    },
    {
      "cell_type": "code",
      "execution_count": 142,
      "metadata": {
        "colab": {
          "base_uri": "https://localhost:8080/"
        },
        "id": "FyyuWKrMpk4f",
        "outputId": "21422241-1e8d-4d9a-f306-a445c76319b6"
      },
      "outputs": [
        {
          "name": "stdout",
          "output_type": "stream",
          "text": [
            "              precision    recall  f1-score   support\n",
            "\n",
            "           0       0.98      0.85      0.91       555\n",
            "           1       0.87      0.98      0.92       541\n",
            "\n",
            "    accuracy                           0.92      1096\n",
            "   macro avg       0.92      0.92      0.92      1096\n",
            "weighted avg       0.92      0.92      0.92      1096\n",
            "\n",
            "KNeighborsClassifier's F1_Score :0.9201388888888888\n"
          ]
        }
      ],
      "source": [
        "#KNN\n",
        "\n",
        "from sklearn.neighbors import KNeighborsClassifier\n",
        "\n",
        "knn = KNeighborsClassifier(n_neighbors=7, algorithm='auto')\n",
        "knn.fit(X_train,y_train)\n",
        "\n",
        "y_pred = knn.predict(X_test)\n",
        "\n",
        "print(classification_report(y_test,y_pred))\n",
        "confusion_matrix(y_test, y_pred)\n",
        "# print('{}\\'s Accuracy :{}'.format(type(model).__name__,accuracy_score(y_test, y_pred)))\n",
        "print('{}\\'s F1_Score :{}'.format(type(knn).__name__,f1_score(y_test, y_pred)))\n",
        "\n",
        "scores_df = pd.concat([scores_df, pd.DataFrame({'Model': [type(lr).__name__],\n",
        "                                                'F1_score': [f1_score(y_test, y_pred)],\n",
        "                                                'Accuracy': [accuracy_score(y_test, y_pred)]})],\n",
        "                      ignore_index=True)"
      ]
    },
    {
      "cell_type": "markdown",
      "metadata": {
        "id": "34iTWzE7FGvI"
      },
      "source": [
        "The Accuracy of KNN Classifier is 0.68 and F1_score is 0.81"
      ]
    },
    {
      "cell_type": "markdown",
      "metadata": {
        "id": "2DV1JdMFNusQ"
      },
      "source": [
        "### Decision Tree\n",
        "\n",
        "*`Decision Tree` is a tree-structured classifier, where internal nodes represent the features of a dataset, branches represent the decision rules and each leaf node represents the outcome.*"
      ]
    },
    {
      "cell_type": "code",
      "execution_count": 143,
      "metadata": {
        "colab": {
          "base_uri": "https://localhost:8080/"
        },
        "id": "XmKtvoALr5g8",
        "outputId": "3c5530fa-7f76-4bb6-e691-d5694d949734"
      },
      "outputs": [
        {
          "name": "stdout",
          "output_type": "stream",
          "text": [
            "              precision    recall  f1-score   support\n",
            "\n",
            "           0       0.98      0.85      0.91       555\n",
            "           1       0.87      0.98      0.92       541\n",
            "\n",
            "    accuracy                           0.92      1096\n",
            "   macro avg       0.92      0.92      0.92      1096\n",
            "weighted avg       0.92      0.92      0.92      1096\n",
            "\n",
            "DecisionTreeClassifier's F1_Score :0.9201388888888888\n"
          ]
        }
      ],
      "source": [
        "#decision tree\n",
        "\n",
        "from sklearn.tree import DecisionTreeClassifier\n",
        "\n",
        "dt = DecisionTreeClassifier(criterion='gini')\n",
        "dt.fit(X_train,y_train)\n",
        "\n",
        "y_pred = dt.predict(X_test)\n",
        "\n",
        "print(classification_report(y_test,y_pred))\n",
        "# print('{}\\'s Accuracy :{}'.format(type(model).__name__,accuracy_score(y_test, y_pred)))\n",
        "print('{}\\'s F1_Score :{}'.format(type(dt).__name__,f1_score(y_test, y_pred)))\n",
        "\n",
        "scores_df = pd.concat([scores_df, pd.DataFrame({'Model': [type(lr).__name__],\n",
        "                                                'F1_score': [f1_score(y_test, y_pred)],\n",
        "                                                'Accuracy': [accuracy_score(y_test, y_pred)]})],\n",
        "                      ignore_index=True)"
      ]
    },
    {
      "cell_type": "markdown",
      "metadata": {
        "id": "kfvp8s8vE9kf"
      },
      "source": [
        "The Accuracy of Decision Tree Classifier is 0.68 and F1_score is 0.77"
      ]
    },
    {
      "cell_type": "markdown",
      "metadata": {
        "id": "7L60C0VbN94P"
      },
      "source": [
        "### Support Vector Machine\n",
        "\n",
        "*`SVM` algorithm creates the best line or decision boundary that can segregate n-dimensional space into classes so that we can easily put the new data point in the correct category in the future. This best decision boundary is called a hyperplane.*"
      ]
    },
    {
      "cell_type": "code",
      "execution_count": 144,
      "metadata": {
        "colab": {
          "base_uri": "https://localhost:8080/"
        },
        "id": "qL743Qr-uIGH",
        "outputId": "55d5b017-929c-47b4-95ad-c1a199cf63aa"
      },
      "outputs": [
        {
          "name": "stdout",
          "output_type": "stream",
          "text": [
            "              precision    recall  f1-score   support\n",
            "\n",
            "           0       0.98      0.85      0.91       555\n",
            "           1       0.87      0.98      0.92       541\n",
            "\n",
            "    accuracy                           0.92      1096\n",
            "   macro avg       0.92      0.92      0.92      1096\n",
            "weighted avg       0.92      0.92      0.92      1096\n",
            "\n",
            "SVC's F1_Score :0.9201388888888888\n"
          ]
        }
      ],
      "source": [
        "# svm\n",
        "\n",
        "from sklearn.svm import SVC\n",
        "\n",
        "svm = SVC(C=0.001)\n",
        "svm.fit(X_train,y_train)\n",
        "\n",
        "y_pred = svm.predict(X_test)\n",
        "\n",
        "print(classification_report(y_test,y_pred))\n",
        "confusion_matrix(y_test, y_pred)\n",
        "# print('{}\\'s Accuracy :{}'.format(type(model).__name__,accuracy_score(y_test, y_pred)))\n",
        "print('{}\\'s F1_Score :{}'.format(type(svm).__name__,f1_score(y_test, y_pred)))\n",
        "\n",
        "scores_df = pd.concat([scores_df, pd.DataFrame({'Model': [type(lr).__name__],\n",
        "                                                'F1_score': [f1_score(y_test, y_pred)],\n",
        "                                                'Accuracy': [accuracy_score(y_test, y_pred)]})],\n",
        "                      ignore_index=True)"
      ]
    },
    {
      "cell_type": "markdown",
      "metadata": {
        "id": "L43y02HkE1Un"
      },
      "source": [
        "The Accuracy of Support Vector Machine Classifier is 0.71 and F1_score is 0.83"
      ]
    },
    {
      "cell_type": "markdown",
      "metadata": {
        "id": "NBB6rEAiNzCq"
      },
      "source": [
        "### Random Forest Classifier\n",
        "\n",
        "*`Random Forest` is a classifier that contains a number of decision trees on various subsets of the given dataset and takes the average to improve the predictive accuracy of that dataset.*"
      ]
    },
    {
      "cell_type": "code",
      "execution_count": 145,
      "metadata": {
        "colab": {
          "base_uri": "https://localhost:8080/"
        },
        "id": "jwLTiZuB0IUc",
        "outputId": "00d0b4a3-01ff-46a0-afd4-8459e7e5566e"
      },
      "outputs": [
        {
          "name": "stdout",
          "output_type": "stream",
          "text": [
            "              precision    recall  f1-score   support\n",
            "\n",
            "           0       0.98      0.85      0.91       555\n",
            "           1       0.87      0.98      0.92       541\n",
            "\n",
            "    accuracy                           0.92      1096\n",
            "   macro avg       0.92      0.92      0.92      1096\n",
            "weighted avg       0.92      0.92      0.92      1096\n",
            "\n",
            "RandomForestClassifier's F1_Score :0.9201388888888888\n"
          ]
        }
      ],
      "source": [
        "#random forest\n",
        "\n",
        "from sklearn.ensemble import RandomForestClassifier\n",
        "rf = RandomForestClassifier(n_estimators=13, criterion='gini', max_depth=10)\n",
        "rf.fit(X_train,y_train)\n",
        "\n",
        "y_pred = rf.predict(X_test)\n",
        "\n",
        "print(classification_report(y_test,y_pred))\n",
        "confusion_matrix(y_test, y_pred)\n",
        "# print('{}\\'s Accuracy :{}'.format(type(model).__name__,accuracy_score(y_test, y_pred)))\n",
        "print('{}\\'s F1_Score :{}'.format(type(rf).__name__,f1_score(y_test, y_pred)))\n",
        "\n",
        "scores_df = pd.concat([scores_df, pd.DataFrame({'Model': [type(lr).__name__],\n",
        "                                                'F1_score': [f1_score(y_test, y_pred)],\n",
        "                                                'Accuracy': [accuracy_score(y_test, y_pred)]})],\n",
        "                      ignore_index=True)"
      ]
    },
    {
      "cell_type": "markdown",
      "metadata": {
        "id": "VJefQU5uEvZS"
      },
      "source": [
        "The Accuracy of Random Forest Classifier is 0.75 and F1_score is 0.83"
      ]
    },
    {
      "cell_type": "markdown",
      "metadata": {
        "id": "fIW4hBtvEq34"
      },
      "source": [
        "*Here we are using `Yellowbrick` for visualization of model prediction*"
      ]
    },
    {
      "cell_type": "code",
      "execution_count": 146,
      "metadata": {
        "colab": {
          "base_uri": "https://localhost:8080/",
          "height": 358
        },
        "id": "pJsbw_DZIwlY",
        "outputId": "7a940697-b115-45ef-e788-78984b05b64e"
      },
      "outputs": [
        {
          "data": {
            "image/png": "[encoded data removed]",
            "text/plain": [
              "<Figure size 800x550 with 1 Axes>"
            ]
          },
          "metadata": {},
          "output_type": "display_data"
        }
      ],
      "source": [
        "classes = [1,0]\n",
        "from yellowbrick.classifier import ConfusionMatrix\n",
        "visualizer = ConfusionMatrix(rf, classes=classes, support=True) \n",
        "visualizer.fit(X_train, y_train) \n",
        "visualizer.score(X_test, y_test)\n",
        "plt.xlabel(\"Predicted\")\n",
        "plt.ylabel(\"Actual\")\n",
        "plt.show()"
      ]
    },
    {
      "cell_type": "code",
      "execution_count": 147,
      "metadata": {
        "colab": {
          "base_uri": "https://localhost:8080/",
          "height": 383
        },
        "id": "pt1E7GTCgpgl",
        "outputId": "b81c48c3-8ac8-4cbd-f3c2-c4bf3df10fea"
      },
      "outputs": [
        {
          "data": {
            "image/png": "[encoded data removed]",
            "text/plain": [
              "<Figure size 800x550 with 2 Axes>"
            ]
          },
          "metadata": {},
          "output_type": "display_data"
        }
      ],
      "source": [
        "from yellowbrick.classifier import ClassificationReport\n",
        "visualizer = ClassificationReport(rf, classes=classes, support=True) \n",
        "visualizer.fit(X_train, y_train) \n",
        "visualizer.score(X_test, y_test)\n",
        "plt.show()"
      ]
    },
    {
      "cell_type": "code",
      "execution_count": 148,
      "metadata": {
        "colab": {
          "base_uri": "https://localhost:8080/",
          "height": 393
        },
        "id": "mJTrzEPdu_wm",
        "outputId": "56799e67-a262-4361-e233-f329863ab05f"
      },
      "outputs": [
        {
          "data": {
            "text/plain": [
              "Text(0.5, 1.0, 'Predicted against Actual plot')"
            ]
          },
          "execution_count": 148,
          "metadata": {},
          "output_type": "execute_result"
        },
        {
          "data": {
            "image/png": "[encoded data removed]",
            "text/plain": [
              "<Figure size 800x550 with 1 Axes>"
            ]
          },
          "metadata": {},
          "output_type": "display_data"
        }
      ],
      "source": [
        "plt.scatter(y_test,y_pred)\n",
        "plt.xlabel(\"Predicted Y\")\n",
        "plt.ylabel(\"Actual Y\")\n",
        "plt.title(\"Predicted against Actual plot\")"
      ]
    },
    {
      "cell_type": "markdown",
      "metadata": {
        "id": "73bdWrj7N5l2"
      },
      "source": [
        "### XGBOOST"
      ]
    },
    {
      "cell_type": "code",
      "execution_count": 149,
      "metadata": {
        "colab": {
          "base_uri": "https://localhost:8080/"
        },
        "id": "4V_VxNa41o0w",
        "outputId": "3a700608-8ee0-4421-8383-f13a3e441d0b"
      },
      "outputs": [],
      "source": [
        "# ! pip install xgboost"
      ]
    },
    {
      "cell_type": "code",
      "execution_count": 150,
      "metadata": {
        "colab": {
          "base_uri": "https://localhost:8080/"
        },
        "id": "QazmoykI9iXe",
        "outputId": "7e309839-5fa4-45fa-8f6a-97b70ebcc0c8"
      },
      "outputs": [
        {
          "name": "stdout",
          "output_type": "stream",
          "text": [
            "              precision    recall  f1-score   support\n",
            "\n",
            "           0       0.96      0.87      0.91       685\n",
            "           1       0.88      0.97      0.92       684\n",
            "\n",
            "    accuracy                           0.92      1369\n",
            "   macro avg       0.92      0.92      0.92      1369\n",
            "weighted avg       0.92      0.92      0.92      1369\n",
            "\n",
            "XGBClassifier's F1_Score :0.9207232267037552\n"
          ]
        }
      ],
      "source": [
        "import xgboost as xgb\n",
        "from sklearn.impute import SimpleImputer\n",
        "from sklearn.pipeline import Pipeline\n",
        "from sklearn.preprocessing import OneHotEncoder\n",
        "from sklearn.preprocessing import StandardScaler\n",
        "from sklearn.compose import ColumnTransformer\n",
        "\n",
        "numeric_pipeline = Pipeline(\n",
        "    steps=[(\"impute\", SimpleImputer(strategy=\"mean\")), \n",
        "           (\"scale\", StandardScaler())]\n",
        ")\n",
        "num_cols = X.select_dtypes(include=\"number\").columns\n",
        "\n",
        "full_processor = ColumnTransformer(\n",
        "    transformers=[\n",
        "        (\"numeric\", numeric_pipeline, num_cols),\n",
        "    ]\n",
        ")\n",
        "\n",
        "X_processed = full_processor.fit_transform(X)\n",
        "y_processed = SimpleImputer(strategy=\"most_frequent\").fit_transform(\n",
        "    y.values.reshape(-1, 1)\n",
        ")\n",
        "\n",
        "X_train, X_test, y_train, y_test = train_test_split(\n",
        "    X_processed, y_processed, stratify=y_processed, random_state=50\n",
        ")\n",
        "\n",
        "model = xgb.XGBClassifier()\n",
        "model.fit(X_train, y_train)\n",
        "\n",
        "y_pred = model.predict(X_test)\n",
        "\n",
        "print(classification_report(y_test,y_pred))\n",
        "# print('{}\\'s Accuracy :{}'.format(type(model).__name__,round(accuracy_score(y_test, y_pred),2)))\n",
        "print('{}\\'s F1_Score :{}'.format(type(model).__name__,f1_score(y_test, y_pred)))\n",
        "\n",
        "scores_df = pd.concat([scores_df, pd.DataFrame({'Model': [type(lr).__name__],\n",
        "                                                'F1_score': [f1_score(y_test, y_pred)],\n",
        "                                                'Accuracy': [accuracy_score(y_test, y_pred)]})],\n",
        "                      ignore_index=True)"
      ]
    },
    {
      "cell_type": "markdown",
      "metadata": {
        "id": "6Wj2vgwVEc7o"
      },
      "source": [
        "The Accuracy of XGBOOST Classifier is 0.72 and F1_score is 0.81"
      ]
    },
    {
      "cell_type": "markdown",
      "metadata": {
        "id": "205GK3EPdB4J"
      },
      "source": [
        "Since the data is unbalanced F1_score is considered superior to model accuracy in determining the better ML algorithm."
      ]
    },
    {
      "cell_type": "markdown",
      "metadata": {
        "id": "9dU5aH-r6xZn"
      },
      "source": [
        "Therefore, the Accuracy and F1_Score of different models stated above are"
      ]
    },
    {
      "cell_type": "code",
      "execution_count": 151,
      "metadata": {
        "colab": {
          "base_uri": "https://localhost:8080/",
          "height": 269
        },
        "id": "x5qAYXD36w1w",
        "outputId": "1a0bd432-10fb-48ae-bf65-1ab2d8af1e88"
      },
      "outputs": [
        {
          "data": {
            "text/html": [
              "<div>\n",
              "<style scoped>\n",
              "    .dataframe tbody tr th:only-of-type {\n",
              "        vertical-align: middle;\n",
              "    }\n",
              "\n",
              "    .dataframe tbody tr th {\n",
              "        vertical-align: top;\n",
              "    }\n",
              "\n",
              "    .dataframe thead th {\n",
              "        text-align: right;\n",
              "    }\n",
              "</style>\n",
              "<table border=\"1\" class=\"dataframe\">\n",
              "  <thead>\n",
              "    <tr style=\"text-align: right;\">\n",
              "      <th></th>\n",
              "      <th>Model</th>\n",
              "      <th>F1_score</th>\n",
              "      <th>Accuracy</th>\n",
              "    </tr>\n",
              "  </thead>\n",
              "  <tbody>\n",
              "    <tr>\n",
              "      <th>0</th>\n",
              "      <td>LogisticRegression</td>\n",
              "      <td>0.906787</td>\n",
              "      <td>0.906022</td>\n",
              "    </tr>\n",
              "    <tr>\n",
              "      <th>1</th>\n",
              "      <td>LogisticRegression</td>\n",
              "      <td>0.667489</td>\n",
              "      <td>0.508212</td>\n",
              "    </tr>\n",
              "    <tr>\n",
              "      <th>2</th>\n",
              "      <td>LogisticRegression</td>\n",
              "      <td>0.920139</td>\n",
              "      <td>0.916058</td>\n",
              "    </tr>\n",
              "    <tr>\n",
              "      <th>3</th>\n",
              "      <td>LogisticRegression</td>\n",
              "      <td>0.920139</td>\n",
              "      <td>0.916058</td>\n",
              "    </tr>\n",
              "    <tr>\n",
              "      <th>4</th>\n",
              "      <td>LogisticRegression</td>\n",
              "      <td>0.920139</td>\n",
              "      <td>0.916058</td>\n",
              "    </tr>\n",
              "    <tr>\n",
              "      <th>5</th>\n",
              "      <td>LogisticRegression</td>\n",
              "      <td>0.920139</td>\n",
              "      <td>0.916058</td>\n",
              "    </tr>\n",
              "    <tr>\n",
              "      <th>6</th>\n",
              "      <td>LogisticRegression</td>\n",
              "      <td>0.920723</td>\n",
              "      <td>0.916728</td>\n",
              "    </tr>\n",
              "  </tbody>\n",
              "</table>\n",
              "</div>"
            ],
            "text/plain": [
              "                Model  F1_score  Accuracy\n",
              "0  LogisticRegression  0.906787  0.906022\n",
              "1  LogisticRegression  0.667489  0.508212\n",
              "2  LogisticRegression  0.920139  0.916058\n",
              "3  LogisticRegression  0.920139  0.916058\n",
              "4  LogisticRegression  0.920139  0.916058\n",
              "5  LogisticRegression  0.920139  0.916058\n",
              "6  LogisticRegression  0.920723  0.916728"
            ]
          },
          "execution_count": 151,
          "metadata": {},
          "output_type": "execute_result"
        }
      ],
      "source": [
        "scores_df"
      ]
    },
    {
      "cell_type": "code",
      "execution_count": 152,
      "metadata": {
        "colab": {
          "base_uri": "https://localhost:8080/"
        },
        "id": "0n2GPhcDlYPM",
        "outputId": "b790a8fe-a8a4-41dc-f2e5-418b70fad918"
      },
      "outputs": [
        {
          "data": {
            "text/plain": [
              "['encoder.pkl']"
            ]
          },
          "execution_count": 152,
          "metadata": {},
          "output_type": "execute_result"
        }
      ],
      "source": [
        "from joblib import Parallel, delayed\n",
        "import joblib\n",
        "\n",
        "rf.feature_names = list(selected_feat)\n",
        "  \n",
        "joblib.dump(rf, 'model.pkl')\n",
        "joblib.dump(le, 'encoder.pkl')"
      ]
    },
    {
      "cell_type": "code",
      "execution_count": 153,
      "metadata": {},
      "outputs": [
        {
          "data": {
            "text/plain": [
              "['Student_Graduation_prediction_model.pkl']"
            ]
          },
          "execution_count": 153,
          "metadata": {},
          "output_type": "execute_result"
        }
      ],
      "source": [
        "import joblib\n",
        "\n",
        "joblib.dump(LogisticRegression, 'Student_Graduation_prediction_model.pkl')"
      ]
    },
    {
      "cell_type": "code",
      "execution_count": 154,
      "metadata": {},
      "outputs": [
        {
          "ename": "NameError",
          "evalue": "name 'sc' is not defined",
          "output_type": "error",
          "traceback": [
            "\u001b[1;31m---------------------------------------------------------------------------\u001b[0m",
            "\u001b[1;31mNameError\u001b[0m                                 Traceback (most recent call last)",
            "Cell \u001b[1;32mIn[154], line 1\u001b[0m\n\u001b[1;32m----> 1\u001b[0m joblib\u001b[38;5;241m.\u001b[39mdump(sc, \u001b[38;5;124m'\u001b[39m\u001b[38;5;124mStandardScaler.pkl\u001b[39m\u001b[38;5;124m'\u001b[39m)\n",
            "\u001b[1;31mNameError\u001b[0m: name 'sc' is not defined"
          ]
        }
      ],
      "source": [
        "joblib.dump(sc, 'StandardScaler.pkl')"
      ]
    },
    {
      "cell_type": "code",
      "execution_count": null,
      "metadata": {},
      "outputs": [],
      "source": [
        "model = joblib.load('Student_Graduation_prediction_model.pkl')\n",
        "\n",
        "predictions = model.predict(sc.transform([[\n",
        "\n",
        "    2.0\n",
        "\n",
        "]]))\n",
        "\n",
        "prediction_label = \"Will Graduate\" if predictions[0] == 1 else \"Dropout\"\n",
        "print(\"Predicted status:\", prediction_label)"
      ]
    },
    {
      "cell_type": "markdown",
      "metadata": {
        "id": "iX6-iWeafzwi"
      },
      "source": [
        "## Conclusion\n",
        "\n",
        "\n",
        "---\n",
        "\n",
        "\n",
        "Among the above classifiers `Random Forest Classifier` performs well on this dataset. It has higher values in terms of both Accuracy - 80% and F1 Score - 0.84(approximately)"
      ]
    },
    {
      "cell_type": "code",
      "execution_count": null,
      "metadata": {
        "id": "YzaRfpqFuSg1"
      },
      "outputs": [],
      "source": []
    }
  ],
  "metadata": {
    "colab": {
      "collapsed_sections": [],
      "provenance": []
    },
    "kernelspec": {
      "display_name": "Python 3",
      "name": "python3"
    },
    "language_info": {
      "codemirror_mode": {
        "name": "ipython",
        "version": 3
      },
      "file_extension": ".py",
      "mimetype": "text/x-python",
      "name": "python",
      "nbconvert_exporter": "python",
      "pygments_lexer": "ipython3",
      "version": "3.11.7"
    }
  },
  "nbformat": 4,
  "nbformat_minor": 0
}
